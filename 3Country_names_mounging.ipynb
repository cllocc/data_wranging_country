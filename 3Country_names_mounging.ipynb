{
 "cells": [
  {
   "cell_type": "markdown",
   "metadata": {},
   "source": [
    "### Overview:\n",
    "<p>\n",
    "    <li>We are checking for mismatched countries within our data.</li>\n",
    "<li>When we find them we use SQL to update the table</li>"
   ]
  },
  {
   "cell_type": "markdown",
   "metadata": {},
   "source": [
    "## Import Packages"
   ]
  },
  {
   "cell_type": "code",
   "execution_count": 2,
   "metadata": {},
   "outputs": [],
   "source": [
    "import sqlite3\n",
    "import pandas as pd\n",
    "import csv as c"
   ]
  },
  {
   "cell_type": "markdown",
   "metadata": {},
   "source": [
    "### The Update Queries "
   ]
  },
  {
   "cell_type": "code",
   "execution_count": 3,
   "metadata": {},
   "outputs": [],
   "source": [
    "import csv, sqlite3\n",
    "\n",
    "#A script to uniform mixed countries\n",
    "\n",
    "con = sqlite3.connect(\"testing.db\")\n",
    "cur = con.cursor()\n",
    "#France\n",
    "cur.execute('UPDATE data SET country = \"france\" WHERE country = \"fra\" or country = \"france                                            \" or country = \"france, metropolitan\" or country = \"fr\" or country = \"fr     \" or country = \"france \"')\n",
    "#United States\n",
    "cur.execute('UPDATE data SET country = \"united states\" WHERE country = \"u.s.a.\" or country = \"us\" or country = \"us     \" or country = \"usa\" or country =\"us minor outlying islands\" or country = \"us minor outlying i\" or country = \"united states minor outlying islands\" or country = \"united states minor outlying isl\" or country = \"united states                                     \"or country = \"u.s. virgin islands\"')\n",
    "#Canada\n",
    "cur.execute('UPDATE data SET country = \"canada\" WHERE country = \"can\" or country = \" canada\" or country = \"canada \" or country = \"ca\" or country = \"canada                                            \"')\n",
    "#United Kingdom\n",
    "cur.execute('UPDATE data SET country = \"united kingdom\" WHERE country = \"gb\" or country = \"uk\" or country = \"gbr\" or country =\"united kingdom                                    \"or country = \"gb     \"')\n",
    "#Germany\n",
    "cur.execute('UPDATE data SET country = \"germany\" WHERE country = \"de\" or country = \"ger\" or country = \"de     \"')\n",
    "#Italy\n",
    "cur.execute('UPDATE data SET country = \"italy\" WHERE country = \"it\" or country = \"italy                                             \" or country = \"lt     \"  or country = \"it     \" or country = \"ita\" or country = \"italy  \"')\n",
    "#Sweden\n",
    "cur.execute('UPDATE data SET country = \"sweden\" WHERE country = \"se\" or country = \"se     \" or country = \"sweden \" or country = \"se     \"')\n",
    "#Austalia\n",
    "cur.execute('UPDATE data SET country = \"australia\" WHERE country = \"au\" or country = \"aus\" or country = \"australia\" or country = \"australia                                         \"')\n",
    "#Finland\n",
    "cur.execute('UPDATE data SET country = \"finland\" WHERE country = \"fi\" or country = \"fi     \"or country = \"fi     \"')\n",
    "#Netherlands\n",
    "cur.execute('UPDATE data SET country = \"netherlands\" WHERE country = \"nl\" or country = \"netherlands   \" or country = \"nl     \" or country = \"netherlands antilles\"')\n",
    "#Spain\n",
    "cur.execute('UPDATE data SET country = \"spain\" WHERE country = \"es\" or country = \"es     \"')\n",
    "#Denmark\n",
    "cur.execute('UPDATE data SET country = \"denmark\" WHERE country = \"dk\" or country = \"dk     \"')\n",
    "#Columbia\n",
    "cur.execute('UPDATE data SET country = \"columbia\" WHERE country = \"col\" or country = \"co\"')\n",
    "#Norway\n",
    "cur.execute('UPDATE data SET country = \"norway\" WHERE country = \"no\" or country = \"no     \" or country = \"norway \"')\n",
    "#Russia\n",
    "cur.execute('UPDATE data SET country = \"russia\" WHERE country = \"russian federation\" or country = \"ru     \" or country = \"ussr\" or country = \"ru\"')\n",
    "#Austria\n",
    "cur.execute('UPDATE data SET country = \"austria\" WHERE country = \"at\" or country = \"at     \"')\n",
    "#New Zealand\n",
    "cur.execute('UPDATE data SET country = \"new zealand\" WHERE country = \"nz\"')\n",
    "#Hungary\n",
    "cur.execute('UPDATE data SET country = \"hungary\" WHERE country = \"hu\" or country =\"hu     \"')\n",
    "#Portugal\n",
    "cur.execute('UPDATE data SET country = \"portugal\" WHERE country = \"pt\" or country = \"pt     \"')\n",
    "#Romainia\n",
    "cur.execute('UPDATE data SET country = \"romainia\" WHERE country = \"ro\" or country = \"ro     \"')\n",
    "#Poland\n",
    "cur.execute('UPDATE data SET country = \"poland\" WHERE country = \"pl\" or country = \"pl     \"')\n",
    "#Brazil\n",
    "cur.execute('UPDATE data SET country = \"brazil\" WHERE country = \"br\"')\n",
    "#Ireland\n",
    "cur.execute('UPDATE data SET country = \"ireland\" WHERE country = \"ie     \" or country = \"ie\"')\n",
    "#Argentina\n",
    "cur.execute('UPDATE data SET country = \"argentina\" WHERE country = \"ar     \"')\n",
    "#turkey\n",
    "cur.execute('UPDATE data SET country = \"turkey\" WHERE country = \"tr\" or country = \"tu\"')\n",
    "#Bulgaria\n",
    "cur.execute('UPDATE data SET country = \"bulgaria\" WHERE country = \"bg\"')\n",
    "#Greece\n",
    "cur.execute('UPDATE data SET country = \"greece\" WHERE country = \"gr\" or country = \"gr     \" or country = \"greece \"')\n",
    "#Switzerland\n",
    "cur.execute('UPDATE data SET country = \"switzerland\" WHERE country = \"ch\" or country = \"ch     \"')\n",
    "#Japan\n",
    "cur.execute('UPDATE data SET country = \"japan\" WHERE country = \"jp\" or country = \"japan  \"')\n",
    "#Estonia\n",
    "cur.execute('UPDATE data SET country = \"estonia\" WHERE country = \"ee\" or country = \"ee     \"')\n",
    "#Latvia\n",
    "cur.execute('UPDATE data SET country = \"latvia\" WHERE country = \"lv\" or country = \"lv     \"')\n",
    "#Mexico\n",
    "cur.execute('UPDATE data SET country = \"mexico\" WHERE country = \"mx\"')\n",
    "#Slovakia\n",
    "cur.execute('UPDATE data SET country = \"slovakia\" WHERE country = \"sk     \" or country = \"sk\"')\n",
    "#Vietnam\n",
    "cur.execute('UPDATE data SET country = \"vietnam\" WHERE country = \"viet nam\"')\n",
    "#Lithuania\n",
    "cur.execute('UPDATE data SET country = \"lithuania\" WHERE country = \"lt\"')\n",
    "#Slovenia\n",
    "cur.execute('UPDATE data SET country = \"slovenia\" WHERE country = \"si     \" or country = \"si\"')\n",
    "#Korea\n",
    "cur.execute('UPDATE data SET country = \"korea\" WHERE country = \"korea (south)\" or country = \"korea, south\" or country = \"south korea\"')\n",
    "#South Africa\n",
    "cur.execute('UPDATE data SET country = \"south africa\" WHERE country = \"za\"')\n",
    "#India\n",
    "cur.execute('UPDATE data SET country = \"india\" WHERE country = \"in\"')\n",
    "#Croatia\n",
    "cur.execute('UPDATE data SET country = \"croatia\" WHERE country = \"hr\"')\n",
    "#Chile\n",
    "cur.execute('UPDATE data SET country = \"chile\" WHERE country = \"cl\"')\n",
    "\n",
    "con.commit()\n",
    "con.close()"
   ]
  },
  {
   "cell_type": "markdown",
   "metadata": {},
   "source": [
    "### Identifying mismatches"
   ]
  },
  {
   "cell_type": "code",
   "execution_count": 4,
   "metadata": {
    "scrolled": true
   },
   "outputs": [
    {
     "data": {
      "text/plain": [
       "country\n",
       "united states     2174623\n",
       "united kingdom    1548974\n",
       "france            1375678\n",
       "turkey            1091715\n",
       "germany            785181\n",
       "canada             777960\n",
       "                   653342\n",
       "australia          419767\n",
       "unknown            383871\n",
       "italy              372182\n",
       "sweden             302669\n",
       "il                 243593\n",
       "netherlands        224752\n",
       "null               219184\n",
       "russia             158762\n",
       "finland            158119\n",
       "denmark             93068\n",
       "spain               92982\n",
       "poland              76409\n",
       "greece              74358\n",
       "dtype: int64"
      ]
     },
     "execution_count": 4,
     "metadata": {},
     "output_type": "execute_result"
    }
   ],
   "source": [
    "crazy = data.groupby('country').size().nlargest(20)\n",
    "crazy"
   ]
  },
  {
   "cell_type": "markdown",
   "metadata": {},
   "source": [
    "### Exporting our countries table to identify mismatches."
   ]
  },
  {
   "cell_type": "code",
   "execution_count": 6,
   "metadata": {},
   "outputs": [
    {
     "name": "stdout",
     "output_type": "stream",
     "text": [
      "Success\n"
     ]
    }
   ],
   "source": [
    "crazy.to_csv('export.csv')\n",
    "print(\"Success\")"
   ]
  }
 ],
 "metadata": {
  "kernelspec": {
   "display_name": "Python 3",
   "language": "python",
   "name": "python3"
  },
  "language_info": {
   "codemirror_mode": {
    "name": "ipython",
    "version": 3
   },
   "file_extension": ".py",
   "mimetype": "text/x-python",
   "name": "python",
   "nbconvert_exporter": "python",
   "pygments_lexer": "ipython3",
   "version": "3.7.4"
  }
 },
 "nbformat": 4,
 "nbformat_minor": 1
}
